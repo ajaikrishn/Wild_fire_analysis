{
 "cells": [
  {
   "cell_type": "code",
   "execution_count": null,
   "id": "31b1aa7b",
   "metadata": {},
   "outputs": [],
   "source": [
    "import pandas as pd\n",
    "import matplotlib.pyplot as plt\n",
    "import seaborn as sns\n",
    "import folium\n",
    "import plotly.express as px\n",
    "from folium.plugins import HeatMap\n",
    "import webbrowser"
   ]
  },
  {
   "cell_type": "code",
   "execution_count": null,
   "id": "0f443eb9",
   "metadata": {},
   "outputs": [],
   "source": [
    "df = pd.read_csv('/home/ajai-krishna/data/Wild_fire/archive.zip',compression='zip')\n",
    "df"
   ]
  },
  {
   "cell_type": "code",
   "execution_count": null,
   "id": "e74bd381",
   "metadata": {},
   "outputs": [],
   "source": [
    "df.describe()"
   ]
  },
  {
   "cell_type": "code",
   "execution_count": null,
   "id": "4a28971f",
   "metadata": {},
   "outputs": [],
   "source": [
    "df.dtypes"
   ]
  },
  {
   "cell_type": "markdown",
   "id": "ae1332ac",
   "metadata": {},
   "source": [
    "**EDA USING SAMPLE**"
   ]
  },
  {
   "cell_type": "code",
   "execution_count": null,
   "id": "d73c7cb2",
   "metadata": {},
   "outputs": [],
   "source": [
    "# sampling\n",
    "df_sample=df.sample(frac=0.25)\n",
    "df_sample"
   ]
  },
  {
   "cell_type": "code",
   "execution_count": null,
   "id": "0fd9579c",
   "metadata": {},
   "outputs": [],
   "source": [
    "# missing values\n",
    "df_sample.isna().sum()"
   ]
  },
  {
   "cell_type": "code",
   "execution_count": null,
   "id": "4c83e44f",
   "metadata": {},
   "outputs": [],
   "source": [
    "# spliting datetime\n",
    "df_sample['datetime']=pd.to_datetime(df_sample['datetime'])\n",
    "df_sample['year']=df_sample['datetime'].dt.year\n",
    "df_sample['month']=df_sample['datetime'].dt.month\n",
    "df_sample"
   ]
  },
  {
   "cell_type": "code",
   "execution_count": null,
   "id": "40f5be9f",
   "metadata": {},
   "outputs": [],
   "source": [
    "#Wildfire estimation\n",
    "df_sample['Wildfire'].value_counts().plot(kind='bar')\n",
    "plt.xlabel('Wildfire')\n",
    "plt.ylabel('Count')\n",
    "plt.show()"
   ]
  },
  {
   "cell_type": "code",
   "execution_count": null,
   "id": "abb3f2cc",
   "metadata": {},
   "outputs": [],
   "source": [
    "#Trending Analysis\n",
    "\n",
    "df1=df_sample[df_sample['Wildfire']==\"Yes\"].groupby(['month','year']).size().reset_index(name='count')\n",
    "df1['date'] = pd.to_datetime(df1[['year', 'month']].assign(day=1))\n",
    "sns.barplot(data=df1,x='year',y='count')\n",
    "plt.title('yearly Wildfire Trend')\n",
    "plt.xlabel('year')\n",
    "plt.ylabel('Wildfire')\n",
    "plt.xticks(rotation=90)\n",
    "plt.show()\n",
    "df1"
   ]
  },
  {
   "cell_type": "code",
   "execution_count": null,
   "id": "48f69666",
   "metadata": {},
   "outputs": [],
   "source": [
    "#Heatmap \n",
    "\n",
    "df_wildfire=df_sample[df_sample['Wildfire']==\"Yes\"]\n",
    "m = folium.Map(location=[df_sample['latitude'].mean(), df_sample['longitude'].mean()], zoom_start=4)\n",
    "HeatMap(data=df_wildfire[['latitude','longitude']].values.tolist()).add_to(m)\n",
    "#m"
   ]
  },
  {
   "cell_type": "markdown",
   "id": "c533d91a",
   "metadata": {},
   "source": [
    "**VARIFYING TEMPORAL CONTINUITY IN 75-DAY WINDOWS**"
   ]
  },
  {
   "cell_type": "code",
   "execution_count": null,
   "id": "aa92ac69",
   "metadata": {},
   "outputs": [],
   "source": [
    "df.columns"
   ]
  },
  {
   "cell_type": "code",
   "execution_count": null,
   "id": "7c82e658",
   "metadata": {},
   "outputs": [],
   "source": [
    "df[\"datetime\"]=pd.to_datetime(df['datetime'])\n",
    "df['date']=df['datetime'].dt.date\n",
    "# dates=df_sample['date'].sort_values()\n",
    "grouped=df.sort_values('date').groupby(['latitude','longitude'])\n",
    "for (lat,lon),group in grouped:\n",
    "    dates = group['date']\n",
    "    print(len(dates))"
   ]
  },
  {
   "cell_type": "code",
   "execution_count": null,
   "id": "5b246f58",
   "metadata": {},
   "outputs": [],
   "source": [
    "grouped"
   ]
  },
  {
   "cell_type": "code",
   "execution_count": null,
   "id": "6e6f0990",
   "metadata": {},
   "outputs": [],
   "source": [
    "counts = grouped['date'].count().reset_index(name='count')\n",
    "\n",
    "# Check which locations have counts that are multiples of 75\n",
    "counts['is_75_multiple'] = counts['count'] % 75 == 0\n",
    "\n",
    "# See how many are valid\n",
    "print(counts['is_75_multiple'].value_counts())\n"
   ]
  },
  {
   "cell_type": "code",
   "execution_count": null,
   "id": "e09cc332",
   "metadata": {},
   "outputs": [],
   "source": []
  }
 ],
 "metadata": {
  "kernelspec": {
   "display_name": "ipyenv (3.12.11)",
   "language": "python",
   "name": "python3"
  },
  "language_info": {
   "codemirror_mode": {
    "name": "ipython",
    "version": 3
   },
   "file_extension": ".py",
   "mimetype": "text/x-python",
   "name": "python",
   "nbconvert_exporter": "python",
   "pygments_lexer": "ipython3",
   "version": "3.12.11"
  }
 },
 "nbformat": 4,
 "nbformat_minor": 5
}
